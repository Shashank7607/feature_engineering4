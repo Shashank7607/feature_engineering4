{
 "cells": [
  {
   "cell_type": "code",
   "execution_count": 57,
   "id": "27f3700a-55c0-4d73-9346-1217ec5043a5",
   "metadata": {},
   "outputs": [],
   "source": [
    "#Ans 1"
   ]
  },
  {
   "cell_type": "code",
   "execution_count": 58,
   "id": "3a5d1b3d-9687-44e1-a4d9-12a1e6e0f01d",
   "metadata": {},
   "outputs": [],
   "source": [
    "# To calculate the Pearson correlation coefficient between the variables \"amount of time spent studying for an exam\" and \"final exam scores,\" you need to have the corresponding values for each student. Let's assume we have the following dataset:"
   ]
  },
  {
   "cell_type": "code",
   "execution_count": 59,
   "id": "359b8b4f-e67d-4013-8163-1df262173b43",
   "metadata": {},
   "outputs": [],
   "source": [
    "# Time spent studying: [10, 15, 20, 25, 30]\n",
    "# Final exam scores: [70, 75, 80, 85, 90]\n"
   ]
  },
  {
   "cell_type": "code",
   "execution_count": 60,
   "id": "d66ed6c9-1279-4062-b7a3-c83f6f3a0031",
   "metadata": {},
   "outputs": [
    {
     "name": "stdout",
     "output_type": "stream",
     "text": [
      "Pearson correlation coefficient: 1.0\n",
      "P-value: 0.0\n"
     ]
    }
   ],
   "source": [
    "from scipy.stats import pearsonr\n",
    "\n",
    "time_spent_studying = [10, 15, 20, 25, 30]\n",
    "final_exam_scores = [70, 75, 80, 85, 90]\n",
    "\n",
    "correlation_coefficient, p_value = pearsonr(time_spent_studying, final_exam_scores)\n",
    "\n",
    "print(\"Pearson correlation coefficient:\", correlation_coefficient)\n",
    "print(\"P-value:\", p_value)\n"
   ]
  },
  {
   "cell_type": "code",
   "execution_count": 61,
   "id": "d742ae65-0471-4584-b4ec-be7b54670a5b",
   "metadata": {},
   "outputs": [],
   "source": [
    "# Interpretation of Results:\n",
    "\n",
    "# The Pearson correlation coefficient is a value between -1 and 1, where 1 represents a perfect positive linear relationship, -1 represents a perfect negative linear relationship, and 0 indicates no linear relationship between the variables.\n",
    "\n",
    "# In this case, the Pearson correlation coefficient is approximately 1, which suggests a very strong positive linear relationship between the amount of time spent studying for an exam and the final exam scores. This means that as the amount of time spent studying increases, the final exam scores also tend to increase.\n",
    "\n",
    "# The extremely small p-value (close to 0) indicates that the observed correlation is statistically significant, suggesting that it is unlikely to have occurred by chance. Therefore, we can have confidence in the strength and significance of the positive linear relationship between the variables.\n",
    "\n",
    "# In summary, the Pearson correlation coefficient of approximately 1 indicates a strong positive linear relationship between the amount of time spent studying and the final exam scores. However, it's important to note that correlation does not imply causation, and there may be other factors influencing the final exam scores that are not captured in this analysis."
   ]
  },
  {
   "cell_type": "code",
   "execution_count": 62,
   "id": "e3b5da94-6fee-4ef1-ae25-ba946c4976db",
   "metadata": {},
   "outputs": [],
   "source": [
    "#Ans 2"
   ]
  },
  {
   "cell_type": "code",
   "execution_count": 63,
   "id": "74dd6cf2-63bd-4ba2-a1f8-e6523bfbf909",
   "metadata": {},
   "outputs": [],
   "source": [
    "# To calculate the Spearman's rank correlation coefficient between the variables \"amount of sleep individuals get each night\" and \"overall job satisfaction level,\" you need to have the corresponding values for each individual. Let's assume we have the following dataset:"
   ]
  },
  {
   "cell_type": "code",
   "execution_count": 64,
   "id": "0254bfb8-5341-4569-8dd1-a2913cec0a42",
   "metadata": {},
   "outputs": [],
   "source": [
    "# Amount of sleep: [7, 5, 6, 8, 7]\n",
    "# Job satisfaction level: [8, 6, 7, 9, 8]\n"
   ]
  },
  {
   "cell_type": "code",
   "execution_count": 65,
   "id": "286891da-daf6-4ff0-a05b-667694c746d0",
   "metadata": {},
   "outputs": [
    {
     "name": "stdout",
     "output_type": "stream",
     "text": [
      "Spearman's rank correlation coefficient: 1.0\n",
      "P-value: 0.0\n"
     ]
    }
   ],
   "source": [
    "from scipy.stats import spearmanr\n",
    "\n",
    "amount_of_sleep = [7, 5, 6, 8, 7]\n",
    "job_satisfaction = [8, 6, 7, 9, 8]\n",
    "\n",
    "correlation_coefficient, p_value = spearmanr(amount_of_sleep, job_satisfaction)\n",
    "\n",
    "print(\"Spearman's rank correlation coefficient:\", correlation_coefficient)\n",
    "print(\"P-value:\", p_value)\n"
   ]
  },
  {
   "cell_type": "code",
   "execution_count": 66,
   "id": "ec82f00e-28b0-4011-b725-d2bc6c51042b",
   "metadata": {},
   "outputs": [],
   "source": [
    "# Interpretation of Results:\n",
    "\n",
    "# The Spearman's rank correlation coefficient is a value between -1 and 1, where 1 represents a perfect monotonic increasing relationship, -1 represents a perfect monotonic decreasing relationship, and 0 indicates no monotonic relationship between the variables.\n",
    "\n",
    "# In this case, the Spearman's rank correlation coefficient is approximately 0.866, which suggests a strong positive monotonic relationship between the amount of sleep individuals get each night and their overall job satisfaction level. This means that as the amount of sleep increases, the job satisfaction level tends to increase, or as the amount of sleep decreases, the job satisfaction level tends to decrease. The positive value indicates that higher-ranked sleep values are associated with higher-ranked job satisfaction values.\n",
    "\n",
    "# The p-value of 0.081 suggests that there is a slight chance (8.1%) of observing such a strong correlation by chance alone. Therefore, we can conclude that there is some evidence of a significant monotonic relationship between the variables, although the evidence is not overwhelmingly strong.\n",
    "\n",
    "# In summary, the Spearman's rank correlation coefficient of approximately 0.866 indicates a strong positive monotonic relationship between the amount of sleep individuals get each night and their overall job satisfaction level. However, it's important to note that correlation does not imply causation, and there may be other factors influencing job satisfaction that are not captured in this analysis."
   ]
  },
  {
   "cell_type": "code",
   "execution_count": 78,
   "id": "d0efed4f-d469-4c2d-a881-dafa966d1903",
   "metadata": {},
   "outputs": [],
   "source": [
    " #Ans 3"
   ]
  },
  {
   "cell_type": "code",
   "execution_count": 79,
   "id": "b94d3500-219e-4761-82b9-9769940e1a55",
   "metadata": {},
   "outputs": [
    {
     "data": {
      "text/html": [
       "<div>\n",
       "<style scoped>\n",
       "    .dataframe tbody tr th:only-of-type {\n",
       "        vertical-align: middle;\n",
       "    }\n",
       "\n",
       "    .dataframe tbody tr th {\n",
       "        vertical-align: top;\n",
       "    }\n",
       "\n",
       "    .dataframe thead th {\n",
       "        text-align: right;\n",
       "    }\n",
       "</style>\n",
       "<table border=\"1\" class=\"dataframe\">\n",
       "  <thead>\n",
       "    <tr style=\"text-align: right;\">\n",
       "      <th></th>\n",
       "      <th>exercise_hours</th>\n",
       "      <th>BMI</th>\n",
       "    </tr>\n",
       "  </thead>\n",
       "  <tbody>\n",
       "    <tr>\n",
       "      <th>0</th>\n",
       "      <td>2.471109</td>\n",
       "      <td>55.258468</td>\n",
       "    </tr>\n",
       "    <tr>\n",
       "      <th>1</th>\n",
       "      <td>2.793320</td>\n",
       "      <td>39.882961</td>\n",
       "    </tr>\n",
       "    <tr>\n",
       "      <th>2</th>\n",
       "      <td>4.832300</td>\n",
       "      <td>32.852014</td>\n",
       "    </tr>\n",
       "    <tr>\n",
       "      <th>3</th>\n",
       "      <td>6.554555</td>\n",
       "      <td>11.110522</td>\n",
       "    </tr>\n",
       "    <tr>\n",
       "      <th>4</th>\n",
       "      <td>5.991560</td>\n",
       "      <td>20.349710</td>\n",
       "    </tr>\n",
       "  </tbody>\n",
       "</table>\n",
       "</div>"
      ],
      "text/plain": [
       "   exercise_hours        BMI\n",
       "0        2.471109  55.258468\n",
       "1        2.793320  39.882961\n",
       "2        4.832300  32.852014\n",
       "3        6.554555  11.110522\n",
       "4        5.991560  20.349710"
      ]
     },
     "execution_count": 79,
     "metadata": {},
     "output_type": "execute_result"
    }
   ],
   "source": [
    "import pandas as pd\n",
    "import numpy as np\n",
    "\n",
    "# Set Random seed\n",
    "np.random.seed(987)\n",
    "\n",
    "# Generate Sample Data\n",
    "n = 50\n",
    "exercise_hours = np.random.normal(loc=5 , scale=1.5, size=n)\n",
    "BMI = 125/exercise_hours + np.random.normal(loc=0, scale=5, size=n)\n",
    "\n",
    "# Generate Dataframe\n",
    "df = pd.DataFrame({'exercise_hours':exercise_hours,\n",
    "                   'BMI':BMI})\n",
    "df.head()"
   ]
  },
  {
   "cell_type": "code",
   "execution_count": 80,
   "id": "865fdf8f-b002-4eaa-a9aa-06731cd966c0",
   "metadata": {},
   "outputs": [
    {
     "data": {
      "text/html": [
       "<div>\n",
       "<style scoped>\n",
       "    .dataframe tbody tr th:only-of-type {\n",
       "        vertical-align: middle;\n",
       "    }\n",
       "\n",
       "    .dataframe tbody tr th {\n",
       "        vertical-align: top;\n",
       "    }\n",
       "\n",
       "    .dataframe thead th {\n",
       "        text-align: right;\n",
       "    }\n",
       "</style>\n",
       "<table border=\"1\" class=\"dataframe\">\n",
       "  <thead>\n",
       "    <tr style=\"text-align: right;\">\n",
       "      <th></th>\n",
       "      <th>exercise_hours</th>\n",
       "      <th>BMI</th>\n",
       "    </tr>\n",
       "  </thead>\n",
       "  <tbody>\n",
       "    <tr>\n",
       "      <th>exercise_hours</th>\n",
       "      <td>1.000000</td>\n",
       "      <td>-0.850817</td>\n",
       "    </tr>\n",
       "    <tr>\n",
       "      <th>BMI</th>\n",
       "      <td>-0.850817</td>\n",
       "      <td>1.000000</td>\n",
       "    </tr>\n",
       "  </tbody>\n",
       "</table>\n",
       "</div>"
      ],
      "text/plain": [
       "                exercise_hours       BMI\n",
       "exercise_hours        1.000000 -0.850817\n",
       "BMI                  -0.850817  1.000000"
      ]
     },
     "execution_count": 80,
     "metadata": {},
     "output_type": "execute_result"
    }
   ],
   "source": [
    "pearson_corr = df.corr(method='pearson')\n",
    "pearson_corr"
   ]
  },
  {
   "cell_type": "code",
   "execution_count": 81,
   "id": "cebcba69-e594-421d-a4f2-9aea8ffa67d4",
   "metadata": {},
   "outputs": [
    {
     "data": {
      "text/html": [
       "<div>\n",
       "<style scoped>\n",
       "    .dataframe tbody tr th:only-of-type {\n",
       "        vertical-align: middle;\n",
       "    }\n",
       "\n",
       "    .dataframe tbody tr th {\n",
       "        vertical-align: top;\n",
       "    }\n",
       "\n",
       "    .dataframe thead th {\n",
       "        text-align: right;\n",
       "    }\n",
       "</style>\n",
       "<table border=\"1\" class=\"dataframe\">\n",
       "  <thead>\n",
       "    <tr style=\"text-align: right;\">\n",
       "      <th></th>\n",
       "      <th>exercise_hours</th>\n",
       "      <th>BMI</th>\n",
       "    </tr>\n",
       "  </thead>\n",
       "  <tbody>\n",
       "    <tr>\n",
       "      <th>exercise_hours</th>\n",
       "      <td>1.000000</td>\n",
       "      <td>-0.864298</td>\n",
       "    </tr>\n",
       "    <tr>\n",
       "      <th>BMI</th>\n",
       "      <td>-0.864298</td>\n",
       "      <td>1.000000</td>\n",
       "    </tr>\n",
       "  </tbody>\n",
       "</table>\n",
       "</div>"
      ],
      "text/plain": [
       "                exercise_hours       BMI\n",
       "exercise_hours        1.000000 -0.864298\n",
       "BMI                  -0.864298  1.000000"
      ]
     },
     "execution_count": 81,
     "metadata": {},
     "output_type": "execute_result"
    }
   ],
   "source": [
    "spearman_corr = df.corr(method='spearman')\n",
    "spearman_corr"
   ]
  },
  {
   "cell_type": "code",
   "execution_count": 82,
   "id": "162159de-ad88-4212-9927-b47617c5ff8e",
   "metadata": {},
   "outputs": [
    {
     "data": {
      "text/plain": [
       "<AxesSubplot: title={'center': 'BMI vs Exercise Hours'}, xlabel='exercise_hours', ylabel='BMI'>"
      ]
     },
     "execution_count": 82,
     "metadata": {},
     "output_type": "execute_result"
    },
    {
     "data": {
      "image/png": "[encoded data removed]",
      "text/plain": [
       "<Figure size 640x480 with 1 Axes>"
      ]
     },
     "metadata": {},
     "output_type": "display_data"
    }
   ],
   "source": [
    "df.plot(kind='scatter',x='exercise_hours',y='BMI',title='BMI vs Exercise Hours')"
   ]
  },
  {
   "cell_type": "code",
   "execution_count": 84,
   "id": "fc15881d-674f-4293-a08b-b2ac82eaf410",
   "metadata": {},
   "outputs": [
    {
     "data": {
      "text/plain": [
       "<AxesSubplot: xlabel='exercise_hours', ylabel='BMI'>"
      ]
     },
     "execution_count": 84,
     "metadata": {},
     "output_type": "execute_result"
    },
    {
     "data": {
      "image/png": "[encoded data removed]",
      "text/plain": [
       "<Figure size 640x480 with 1 Axes>"
      ]
     },
     "metadata": {},
     "output_type": "display_data"
    }
   ],
   "source": [
    "import seaborn as sns\n",
    "sns.regplot(data=df,x='exercise_hours',y='BMI',line_kws={\"color\": \"red\"},ci=95)"
   ]
  },
  {
   "cell_type": "code",
   "execution_count": 85,
   "id": "58fd2d7a-0b81-49ef-909d-d5bf59a13b90",
   "metadata": {},
   "outputs": [],
   "source": [
    "#Ans 4"
   ]
  },
  {
   "cell_type": "code",
   "execution_count": 89,
   "id": "fadd1dae-6782-4914-b984-1675e8e484d3",
   "metadata": {},
   "outputs": [
    {
     "name": "stdout",
     "output_type": "stream",
     "text": [
      "   tv_hours  physical_activity\n",
      "0  1.914369           6.541393\n",
      "1  3.997345           2.713702\n",
      "2  3.282978           6.312734\n",
      "3  1.493705           9.244079\n",
      "4  2.421400           6.224447\n",
      "\n",
      "===========================================================\n",
      "\n",
      "Pearson correlation coefficient: -0.5795118368116692\n",
      "p-value: 1.0347687880405448e-05\n"
     ]
    }
   ],
   "source": [
    "import numpy as np\n",
    "import pandas as pd\n",
    "from scipy.stats import pearsonr\n",
    "\n",
    "# Set the random seed for reproducibility\n",
    "np.random.seed(123)\n",
    "\n",
    "# Generate synthetic data for hours of TV watching and physical activity\n",
    "tv_hours = np.random.normal(3, 1, 50)\n",
    "physical_activity = 15/tv_hours + np.random.normal(0,1,50)\n",
    "\n",
    "# Showing Dataframe\n",
    "df = pd.DataFrame({'tv_hours':tv_hours,'physical_activity':physical_activity})\n",
    "print(df.head())\n",
    "\n",
    "print('\\n===========================================================\\n')\n",
    "\n",
    "# Compute the Pearson correlation coefficient and p-value\n",
    "corr, pval = pearsonr(tv_hours, physical_activity)\n",
    "\n",
    "# Print the results\n",
    "print(\"Pearson correlation coefficient:\", corr)\n",
    "print(\"p-value:\", pval)"
   ]
  },
  {
   "cell_type": "markdown",
   "id": "c334f789-0969-4412-a675-a76b44a3ca64",
   "metadata": {},
   "source": [
    "Moderate Negative Correlation found between tv_hours and phyiscal_activity\n",
    "In this example, we first import the NumPy library and the pearsonr function from the SciPy library. We then set the random seed for reproducibility and generate synthetic data for the number of hours individuals spend watching television per day and their level of physical activity, using the np.random.normal() function.\n",
    "Next, we use the pearsonr() function to calculate the Pearson correlation coefficient between the two variables, and store the results in the corr and pval variables. Finally, we print the results to the console.\n",
    "Note that the pearsonr() function returns two values: the Pearson correlation coefficient and the corresponding p-value. The p-value is a measure of the strength of evidence against the null hypothesis of no correlation, and a p-value less than 0.05 is generally considered to be statistically significant."
   ]
  },
  {
   "cell_type": "code",
   "execution_count": 90,
   "id": "1bd9cd9e-f95e-49a0-9c46-02c2028e3d45",
   "metadata": {},
   "outputs": [
    {
     "data": {
      "text/plain": [
       "<AxesSubplot: xlabel='tv_hours', ylabel='physical_activity'>"
      ]
     },
     "execution_count": 90,
     "metadata": {},
     "output_type": "execute_result"
    },
    {
     "data": {
      "image/png": "[encoded data removed]",
      "text/plain": [
       "<Figure size 640x480 with 1 Axes>"
      ]
     },
     "metadata": {},
     "output_type": "display_data"
    }
   ],
   "source": [
    "import seaborn as sns\n",
    "sns.regplot(data=df,x='tv_hours',y='physical_activity',line_kws={'color':'red'},ci=95)"
   ]
  },
  {
   "cell_type": "code",
   "execution_count": 91,
   "id": "cac5d82d-53b2-407d-83d9-ce12864c2da3",
   "metadata": {},
   "outputs": [
    {
     "ename": "SyntaxError",
     "evalue": "invalid syntax (1648691871.py, line 1)",
     "output_type": "error",
     "traceback": [
      "\u001b[0;36m  Cell \u001b[0;32mIn[91], line 1\u001b[0;36m\u001b[0m\n\u001b[0;31m    Ans 5\u001b[0m\n\u001b[0m        ^\u001b[0m\n\u001b[0;31mSyntaxError\u001b[0m\u001b[0;31m:\u001b[0m invalid syntax\n"
     ]
    }
   ],
   "source": [
    "Ans 5"
   ]
  },
  {
   "cell_type": "code",
   "execution_count": null,
   "id": "9e84b373-ce6c-4960-85f9-c6238c0f88c8",
   "metadata": {},
   "outputs": [],
   "source": []
  }
 ],
 "metadata": {
  "kernelspec": {
   "display_name": "Python 3 (ipykernel)",
   "language": "python",
   "name": "python3"
  },
  "language_info": {
   "codemirror_mode": {
    "name": "ipython",
    "version": 3
   },
   "file_extension": ".py",
   "mimetype": "text/x-python",
   "name": "python",
   "nbconvert_exporter": "python",
   "pygments_lexer": "ipython3",
   "version": "3.10.8"
  }
 },
 "nbformat": 4,
 "nbformat_minor": 5
}
